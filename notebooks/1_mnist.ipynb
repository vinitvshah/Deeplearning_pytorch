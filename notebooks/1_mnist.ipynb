{
  "cells": [
    {
      "cell_type": "code",
      "execution_count": null,
      "id": "bdfba6c5",
      "metadata": {
        "id": "bdfba6c5"
      },
      "outputs": [],
      "source": [
        "# Import required libraries\n",
        "import torch\n",
        "import torch.nn as nn\n",
        "import matplotlib.pyplot as plt\n",
        "\n",
        "import torchvision\n",
        "import numpy as np\n",
        "import torchvision.transforms as transforms\n",
        "from sklearn.metrics import accuracy_score, f1_score, precision_score, recall_score\n"
      ]
    },
    {
      "cell_type": "code",
      "execution_count": null,
      "id": "deb4a334",
      "metadata": {
        "id": "deb4a334",
        "outputId": "06130095-9ec7-4aab-c304-c228bd878968"
      },
      "outputs": [
        {
          "data": {
            "text/plain": [
              "<torch._C.Generator at 0x103bfd990>"
            ]
          },
          "execution_count": 84,
          "metadata": {},
          "output_type": "execute_result"
        }
      ],
      "source": [
        "torch.manual_seed(0)\n"
      ]
    },
    {
      "cell_type": "code",
      "execution_count": null,
      "id": "5f54d472",
      "metadata": {
        "id": "5f54d472"
      },
      "outputs": [],
      "source": [
        "# input layer, a single hidden layer, and an output layer\n",
        "# Define hyperparameters\n",
        "input_size = 784  # 28x28 pixels\n",
        "hidden_size = 128\n",
        "num_classes = 10\n",
        "\n",
        "#tip to choose to size of hidden layer\n",
        "#There is no thumb rule however hidden layers depend numbers of feature it has to learn, you can start with 1 and optimize and move forward.\n",
        "\n",
        "batch_size = 100"
      ]
    },
    {
      "cell_type": "code",
      "execution_count": null,
      "id": "cf93c989",
      "metadata": {
        "id": "cf93c989"
      },
      "outputs": [],
      "source": [
        "img = torchvision.datasets.MNIST(root='../data', train=True, download=True)[0]"
      ]
    },
    {
      "cell_type": "code",
      "execution_count": null,
      "id": "0de01bf4",
      "metadata": {
        "id": "0de01bf4"
      },
      "outputs": [],
      "source": [
        "# Load MNIST dataset\n",
        "transform = transforms.Compose(\n",
        "    [\n",
        "        transforms.ToTensor(),   # convert to pytorch tensor\n",
        "     transforms.Normalize((0.1307,), (0.3081,))]  # standardize the values with mean + std\n",
        ")\n",
        "\n",
        "\n",
        "train_dataset = torchvision.datasets.MNIST(root='../data', train=True, transform=transform, download=True)\n",
        "test_dataset = torchvision.datasets.MNIST(root='../data', train=False, transform=transform, download=True)\n",
        "\n",
        "train_loader = torch.utils.data.DataLoader(dataset=train_dataset, batch_size=batch_size, shuffle=True)\n",
        "test_loader = torch.utils.data.DataLoader(dataset=test_dataset, batch_size=batch_size, shuffle=False)\n"
      ]
    },
    {
      "cell_type": "code",
      "execution_count": null,
      "id": "e926a88c",
      "metadata": {
        "id": "e926a88c",
        "outputId": "2bc3c89d-fdc0-4420-e3d1-0306ce66bf1e"
      },
      "outputs": [
        {
          "data": {
            "image/png": "[encoded data removed]",
            "text/plain": [
              "<Figure size 640x480 with 1 Axes>"
            ]
          },
          "metadata": {},
          "output_type": "display_data"
        }
      ],
      "source": [
        "# transpose the array to (28, 28) format expected by Matplotlib\n",
        "array = np.squeeze(np.transpose(train_dataset[0][0], (1, 2, 0)))\n",
        "\n",
        "# plot the image using Matplotlib\n",
        "plt.imshow(array)\n",
        "plt.show()\n",
        "\n"
      ]
    },
    {
      "cell_type": "code",
      "execution_count": null,
      "id": "42f64815",
      "metadata": {
        "id": "42f64815",
        "outputId": "cb5f667d-2d6a-46ce-a293-419953846292"
      },
      "outputs": [
        {
          "data": {
            "text/plain": [
              "torch.Size([100, 1, 28, 28])"
            ]
          },
          "execution_count": 28,
          "metadata": {},
          "output_type": "execute_result"
        }
      ],
      "source": [
        "next(iter(test_loader))[0].shape # we have 100 images with 1,28,28"
      ]
    },
    {
      "cell_type": "code",
      "execution_count": null,
      "id": "9ef55b65",
      "metadata": {
        "id": "9ef55b65"
      },
      "outputs": [],
      "source": [
        "# Define the neural network model\n",
        "class NeuralNet(nn.Module):\n",
        "    def __init__(self, input_size, hidden_size, num_classes):\n",
        "        super(NeuralNet, self).__init__()\n",
        "        self.fc1 = nn.Linear(input_size, hidden_size) \n",
        "        self.relu = nn.ReLU() #most common activation function with GPT \n",
        "        self.fc2 = nn.Linear(hidden_size, num_classes)  \n",
        "    \n",
        "    def forward(self, x):\n",
        "        out = self.fc1(x)\n",
        "        out = self.relu(out)\n",
        "        out = self.fc2(out)\n",
        "        return out\n",
        "\n",
        "# Create the model\n",
        "model = NeuralNet(input_size, hidden_size, num_classes)"
      ]
    },
    {
      "cell_type": "code",
      "execution_count": null,
      "id": "fca379b3",
      "metadata": {
        "id": "fca379b3"
      },
      "outputs": [],
      "source": [
        "# Loss function options\n",
        "cross_entropy_loss = nn.CrossEntropyLoss()\n",
        "nll_loss = nn.NLLLoss()\n",
        "mse_loss = nn.MSELoss()\n",
        "\n",
        "optimizer = torch.optim.Adam(model.parameters(), lr=0.001)\n",
        "\n"
      ]
    },
    {
      "cell_type": "code",
      "execution_count": null,
      "id": "502faaf8",
      "metadata": {
        "id": "502faaf8"
      },
      "outputs": [],
      "source": [
        "# Function to train the model\n",
        "def train_model(model, loss_function, train_loader, optimizer, num_epochs=10):\n",
        "    # Put the model in training mode\n",
        "    model.train()\n",
        "    \n",
        "    # Iterate over the number of epochs\n",
        "    for epoch in range(num_epochs):\n",
        "        # Initialize the running loss for this epoch to zero\n",
        "        running_loss = 0.0\n",
        "        \n",
        "        # Iterate over each batch in the training loader\n",
        "        for i, (images, labels) in enumerate(train_loader):\n",
        "            \n",
        "            # Reshape the images tensor to have size (batch_size, input_size)\n",
        "            images = images.reshape(-1, input_size)\n",
        "            # Forward pass: compute the outputs of the model given the input images\n",
        "            outputs = model(images)\n",
        "            # Compute the loss between the outputs and the true labels\n",
        "            loss = loss_function(outputs, labels)\n",
        "            # Backward pass: compute the gradients of the loss with respect to the model parameters\n",
        "            optimizer.zero_grad()\n",
        "            loss.backward()\n",
        "            # Update the model parameters using the optimizer\n",
        "            optimizer.step()\n",
        "            \n",
        "            # Add the current batch loss to the running loss for this epoch\n",
        "            running_loss += loss.item()\n",
        "\n",
        "        # Compute the average loss over all batches for this epoch and print it\n",
        "        print(f'Epoch [{epoch+1}/{num_epochs}], Loss: {running_loss/len(train_loader):.4f}')\n"
      ]
    },
    {
      "cell_type": "code",
      "execution_count": null,
      "id": "410c88bf",
      "metadata": {
        "id": "410c88bf"
      },
      "outputs": [],
      "source": [
        "# Function to evaluate the model\n",
        "def evaluate_model(model, test_loader):\n",
        "    # Put the model in evaluation mode\n",
        "    model.eval()\n",
        "    \n",
        "    # Initialize empty lists to store true and predicted labels\n",
        "    y_true, y_pred = [], []\n",
        "    \n",
        "    # Disable gradient computation since we're only evaluating the model\n",
        "    with torch.no_grad():\n",
        "        # Iterate over each batch in the test loader\n",
        "        for images, labels in test_loader:\n",
        "            # Reshape the images tensor to have size (batch_size, input_size)\n",
        "            images = images.reshape(-1, input_size)\n",
        "            \n",
        "            # Forward pass: compute the outputs of the model given the input images\n",
        "            outputs = model(images)\n",
        "            \n",
        "            # Find the predicted class for each image in the batch\n",
        "            _, predicted = torch.max(outputs.data, 1)\n",
        "            \n",
        "            # Append the true and predicted labels for this batch to the lists\n",
        "            y_true.extend(labels.numpy())\n",
        "            y_pred.extend(predicted.numpy())\n",
        "    \n",
        "    # Calculate evaluation metrics using the true and predicted labels\n",
        "    accuracy, f1, precision, recall = evaluate_model_metrics(np.array(y_true), np.array(y_pred))\n",
        "    \n",
        "    # Return the evaluation metrics\n",
        "    return accuracy, f1, precision, recall\n",
        "\n",
        "# Function to calculate evaluation metrics\n",
        "def evaluate_model_metrics(y_true, y_pred):\n",
        "    # Compute the accuracy, F1 score, precision, and recall\n",
        "    accuracy = accuracy_score(y_true, y_pred)\n",
        "    f1 = f1_score(y_true, y_pred, average='macro')\n",
        "    precision = precision_score(y_true, y_pred, average='macro')\n",
        "    recall = recall_score(y_true, y_pred, average='macro')\n",
        "\n",
        "    # Return the evaluation metrics\n",
        "    return accuracy, f1, precision, recall\n",
        "\n",
        "# Define a dictionary of loss functions\n",
        "loss_functions = {\n",
        "    'CrossEntropyLoss': nn.CrossEntropyLoss(),\n",
        "    'NLLLoss': nn.NLLLoss(),\n",
        "}\n"
      ]
    },
    {
      "cell_type": "code",
      "execution_count": null,
      "id": "f155c68d",
      "metadata": {
        "id": "f155c68d",
        "outputId": "121647fe-4234-4434-8ba3-3ac32fa76355"
      },
      "outputs": [
        {
          "name": "stdout",
          "output_type": "stream",
          "text": [
            "Training with CrossEntropyLoss:\n",
            "Epoch [1/10], Loss: 0.2845\n",
            "Epoch [2/10], Loss: 0.1248\n",
            "Epoch [3/10], Loss: 0.0850\n",
            "Epoch [4/10], Loss: 0.0631\n",
            "Epoch [5/10], Loss: 0.0513\n",
            "Epoch [6/10], Loss: 0.0399\n",
            "Epoch [7/10], Loss: 0.0323\n",
            "Epoch [8/10], Loss: 0.0272\n",
            "Epoch [9/10], Loss: 0.0225\n",
            "Epoch [10/10], Loss: 0.0220\n",
            "Performance metrics for CrossEntropyLoss:\n",
            "Accuracy: 0.9767, F1-score: 0.9766, Precision: 0.9766, Recall: 0.9767\n",
            "\n",
            "Training with NLLLoss:\n",
            "Epoch [1/10], Loss: -11812.1983\n",
            "Epoch [2/10], Loss: -84332.6273\n",
            "Epoch [3/10], Loss: -219235.6355\n",
            "Epoch [4/10], Loss: -405894.0463\n",
            "Epoch [5/10], Loss: -638261.7497\n",
            "Epoch [6/10], Loss: -911766.3699\n",
            "Epoch [7/10], Loss: -1222908.0429\n",
            "Epoch [8/10], Loss: -1569687.2360\n",
            "Epoch [9/10], Loss: -1950855.6594\n",
            "Epoch [10/10], Loss: -2365668.1362\n",
            "Performance metrics for NLLLoss:\n",
            "Accuracy: 0.1135, F1-score: 0.0204, Precision: 0.0114, Recall: 0.1000\n",
            "\n"
          ]
        },
        {
          "name": "stderr",
          "output_type": "stream",
          "text": [
            "/opt/homebrew/lib/python3.10/site-packages/sklearn/metrics/_classification.py:1334: UndefinedMetricWarning: Precision is ill-defined and being set to 0.0 in labels with no predicted samples. Use `zero_division` parameter to control this behavior.\n",
            "  _warn_prf(average, modifier, msg_start, len(result))\n"
          ]
        }
      ],
      "source": [
        "# Train and evaluate the model using different loss functions\n",
        "for loss_name, loss_function in loss_functions.items():\n",
        "    print(f'Training with {loss_name}:')\n",
        "    \n",
        "    # Initialize a new model and optimizer for each loss function\n",
        "    model = NeuralNet(input_size, hidden_size, num_classes)\n",
        "    optimizer = torch.optim.Adam(model.parameters(), lr=0.001)\n",
        "    \n",
        "    # Train the model\n",
        "    train_model(model, loss_function, train_loader, optimizer, num_epochs=10)\n",
        "\n",
        "    # Evaluate the model\n",
        "    accuracy, f1, precision, recall = evaluate_model(model, test_loader)\n",
        "    print(f'Performance metrics for {loss_name}:')\n",
        "    print(f'Accuracy: {accuracy:.4f}, F1-score: {f1:.4f}, Precision: {precision:.4f}, Recall: {recall:.4f}\\n')\n"
      ]
    },
    {
      "cell_type": "code",
      "execution_count": null,
      "id": "1d641f72",
      "metadata": {
        "id": "1d641f72"
      },
      "outputs": [],
      "source": []
    }
  ],
  "metadata": {
    "kernelspec": {
      "display_name": "Python 3 (ipykernel)",
      "language": "python",
      "name": "python3"
    },
    "language_info": {
      "codemirror_mode": {
        "name": "ipython",
        "version": 3
      },
      "file_extension": ".py",
      "mimetype": "text/x-python",
      "name": "python",
      "nbconvert_exporter": "python",
      "pygments_lexer": "ipython3",
      "version": "3.10.7"
    },
    "colab": {
      "provenance": []
    }
  },
  "nbformat": 4,
  "nbformat_minor": 5
}